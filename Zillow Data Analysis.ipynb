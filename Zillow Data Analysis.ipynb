{
 "cells": [
  {
   "cell_type": "markdown",
   "metadata": {},
   "source": [
    "# Zillow Rent Index Time Series Data"
   ]
  },
  {
   "cell_type": "code",
   "execution_count": 153,
   "metadata": {
    "collapsed": true
   },
   "outputs": [],
   "source": [
    "import pandas as pd\n",
    "import numpy as np\n",
    "import matplotlib.pyplot as plt\n",
    "import seaborn as sns\n",
    "\n",
    "df = pd.read_csv('C:\\\\Users\\\\Thomas\\\\Workspace 2\\\\price.csv')\n",
    "df_sqft = pd.read_csv('C:\\\\Users\\\\Thomas\\\\Workspace 2\\\\pricepersqft.csv')"
   ]
  },
  {
   "cell_type": "code",
   "execution_count": 154,
   "metadata": {
    "collapsed": false
   },
   "outputs": [
    {
     "name": "stdout",
     "output_type": "stream",
     "text": [
      "(13131, 81)\n",
      "(11919, 81)\n",
      "9670\n",
      "Index(['City Code', 'City', 'Metro', 'County', 'State', 'Population Rank',\n",
      "       'November 2010', 'December 2010', 'January 2011', 'February 2011',\n",
      "       'March 2011', 'April 2011', 'May 2011', 'June 2011', 'July 2011',\n",
      "       'August 2011', 'September 2011', 'October 2011', 'November 2011',\n",
      "       'December 2011', 'January 2012', 'February 2012', 'March 2012',\n",
      "       'April 2012', 'May 2012', 'June 2012', 'July 2012', 'August 2012',\n",
      "       'September 2012', 'October 2012', 'November 2012', 'December 2012',\n",
      "       'January 2013', 'February 2013', 'March 2013', 'April 2013', 'May 2013',\n",
      "       'June 2013', 'July 2013', 'August 2013', 'September 2013',\n",
      "       'October 2013', 'November 2013', 'December 2013', 'January 2014',\n",
      "       'February 2014', 'March 2014', 'April 2014', 'May 2014', 'June 2014',\n",
      "       'July 2014', 'August 2014', 'September 2014', 'October 2014',\n",
      "       'November 2014', 'December 2014', 'January 2015', 'February 2015',\n",
      "       'March 2015', 'April 2015', 'May 2015', 'June 2015', 'July 2015',\n",
      "       'August 2015', 'September 2015', 'October 2015', 'November 2015',\n",
      "       'December 2015', 'January 2016', 'February 2016', 'March 2016',\n",
      "       'April 2016', 'May 2016', 'June 2016', 'July 2016', 'August 2016',\n",
      "       'September 2016', 'October 2016', 'November 2016', 'December 2016',\n",
      "       'January 2017'],\n",
      "      dtype='object')\n"
     ]
    }
   ],
   "source": [
    "print(df.shape)\n",
    "print(df_sqft.shape)\n",
    "print(df['City'].nunique())\n",
    "print(df.columns)"
   ]
  },
  {
   "cell_type": "code",
   "execution_count": 155,
   "metadata": {
    "collapsed": false
   },
   "outputs": [
    {
     "name": "stdout",
     "output_type": "stream",
     "text": [
      "   City Code          City         Metro        County State  Population Rank  \\\n",
      "0       6181      New York      New York        Queens    NY                1   \n",
      "1      12447   Los Angeles   Los Angeles   Los Angeles    CA                2   \n",
      "2      17426       Chicago       Chicago          Cook    IL                3   \n",
      "3      39051       Houston       Houston        Harris    TX                4   \n",
      "4      13271  Philadelphia  Philadelphia  Philadelphia    PA                5   \n",
      "\n",
      "   November 2010  December 2010  January 2011  February 2011      ...       \\\n",
      "0            NaN            NaN           NaN            NaN      ...        \n",
      "1         2184.0         2184.0        2183.0         2188.0      ...        \n",
      "2         1563.0         1555.0        1547.0         1537.0      ...        \n",
      "3         1198.0         1199.0        1199.0         1200.0      ...        \n",
      "4         1092.0         1099.0        1094.0         1087.0      ...        \n",
      "\n",
      "   April 2016  May 2016  June 2016  July 2016  August 2016  September 2016  \\\n",
      "0        2334      2339       2345       2344         2336            2324   \n",
      "1        2637      2662       2687       2704         2716            2723   \n",
      "2        1684      1686       1687       1685         1681            1675   \n",
      "3        1444      1446       1446       1443         1440            1438   \n",
      "4        1206      1211       1218       1222         1223            1220   \n",
      "\n",
      "   October 2016  November 2016  December 2016  January 2017  \n",
      "0          2318           2321           2321          2322  \n",
      "1          2731           2740           2748          2753  \n",
      "2          1668           1656           1644          1632  \n",
      "3          1437           1437           1435          1430  \n",
      "4          1216           1211           1209          1212  \n",
      "\n",
      "[5 rows x 81 columns]\n"
     ]
    }
   ],
   "source": [
    "print(df.head())\n",
    "##print('-----------------------')\n",
    "##print(df_sqft.head())"
   ]
  },
  {
   "cell_type": "code",
   "execution_count": 156,
   "metadata": {
    "collapsed": false
   },
   "outputs": [
    {
     "name": "stderr",
     "output_type": "stream",
     "text": [
      "C:\\workspace\\Anaconda3\\lib\\site-packages\\statsmodels\\nonparametric\\kdetools.py:20: VisibleDeprecationWarning: using a non-integer number instead of an integer will result in an error in the future\n",
      "  y = X[:m/2+1] + np.r_[0,X[m/2+1:],0]*1j\n"
     ]
    },
    {
     "data": {
      "image/png": "[encoded data removed]",
      "text/plain": [
       "<matplotlib.figure.Figure at 0x18e0a63b940>"
      ]
     },
     "metadata": {},
     "output_type": "display_data"
    }
   ],
   "source": [
    "## Quick KDE plot to visualize distribution\n",
    "kb = df.groupby('State')['January 2017'].mean()\n",
    "plot = sns.kdeplot(kb)\n",
    "mn = df['January 2017'].mean()\n",
    "plt.axvline(mn, color='r', linestyle='dashed', linewidth=1, label='mean')\n",
    "plt.title('Distribution of Rental Rates (Jan, 2017)')\n",
    "plt.show()\n",
    "plt.clf()"
   ]
  },
  {
   "cell_type": "markdown",
   "metadata": {},
   "source": [
    "## Functions to be used"
   ]
  },
  {
   "cell_type": "code",
   "execution_count": 157,
   "metadata": {
    "collapsed": false
   },
   "outputs": [],
   "source": [
    "def createCols(data):\n",
    "    data['Total Change'] = data.loc[:,'January 2017'] - data.loc[:,'November 2010']\n",
    "    data['Percent Change'] = 100*(data.loc[:,'January 2017'] - data.loc[:,'November 2010']) / data.loc[:,'November 2010']\n",
    "    data['Year Change'] = data.loc[:,'January 2017'] - data.loc[:,'January 2016']\n",
    "    data['Year Percent Change'] = 100*(data.loc[:,'January 2017'] - data.loc[:,'January 2016']) / data.loc[:,'January 2016']\n",
    "    data['Average (2010-2017)'] = data.loc[:, 'November 2010':'January 2017'].mean(axis=1,skipna=True)\n",
    "    data['Std (2010-2017)'] = data.loc[:, 'November 2010':'January 2017'].std(axis=1,skipna=True)\n",
    "    \n",
    "    return data"
   ]
  },
  {
   "cell_type": "code",
   "execution_count": 158,
   "metadata": {
    "collapsed": true
   },
   "outputs": [],
   "source": [
    "def createZs(data, col_list =['Total Change', 'January 2017', 'Average (2010-2017)']):\n",
    "    for col in col_list:\n",
    "        nation_mean = df[col].mean()\n",
    "        nation_std = df[col].std()\n",
    "        data['{} Zscore'.format(col)] = (data.loc[:,col] - nation_mean) / nation_std\n",
    "    return data\n",
    "    "
   ]
  },
  {
   "cell_type": "code",
   "execution_count": 159,
   "metadata": {
    "collapsed": false
   },
   "outputs": [],
   "source": [
    "def summarizeArea(data, title):\n",
    "    print('Mean rent (Nov, 2010) in {}: $'.format(title) + str(round(data['November 2010'].mean(), 2)))\n",
    "    print('Standard Deviation of rent (Nov, 2010) in {}: $'.format(title) + str(round(data['November 2010'].std(), 3)))\n",
    "    print('Mean rent (Jan, 2017) in {}: $'.format(title) + str(round(data['January 2017'].mean(), 2)))\n",
    "    print('Standard Deviation of rent in {} (Jan, 2017): $'.format(title) + str(round(data['January 2017'].std(), 3)))\n",
    "    print('------------------------------------------------------')\n",
    "    print('Mean total change in {}: $'.format(title) + str(round(data['Total Change'].mean(),2)))\n",
    "    print('Standard Deviation of total change in {}: $'.format(title) + str(round(data['Total Change'].std(), 3)))\n",
    "    print('Mean percent change in {}: '.format(title) + str(round(data['Percent Change'].mean(),3))+'%')\n",
    "    print('------------------------------------------------------')\n",
    "    print('Mean 1 year change in {}: $'.format(title) + str(round(data['Year Change'].mean(),2)))\n",
    "    print('Standard Deviation of 1 year change in {}: $'.format(title) + str(round(data['Year Change'].std(), 3)))\n",
    "    print('Mean 1 year percent change in {}: '.format(title) + str(round(data['Year Percent Change'].mean(), 3))+'%')\n",
    "    "
   ]
  },
  {
   "cell_type": "code",
   "execution_count": 160,
   "metadata": {
    "collapsed": true
   },
   "outputs": [],
   "source": [
    "def summarizeGroup(data, group, sort='Total Change'):\n",
    "    print(\"Top 5 {}'s ordered by {}\".format(group, sort))\n",
    "    print(data.groupby(group)[['Total Change', 'January 2017', 'Average (2010-2017)', 'Std (2010-2017)']]\\\n",
    "          .mean().sort_values(by=sort, ascending=False).head(5))\n",
    "    print('---------------------------------')\n",
    "    print(\"Bottom 5 {}'s ordered by {}\".format(group, sort))\n",
    "    print(data.groupby(group)[['Total Change', 'January 2017', 'Average (2010-2017)', 'Std (2010-2017)']]\\\n",
    "          .mean().sort_values(by=sort, ascending=True).head(5))\n",
    "    "
   ]
  },
  {
   "cell_type": "code",
   "execution_count": 161,
   "metadata": {
    "collapsed": true
   },
   "outputs": [],
   "source": [
    "def summarizeGroupZs(data, group, sort='Total Change Zscore'):\n",
    "    print(\"Top 5 {}'s ordered by {}\".format(group, sort))\n",
    "    print(data.groupby(group)[['Total Change Zscore', 'January 2017 Zscore', 'Average (2010-2017) Zscore', 'Std (2010-2017)']]\\\n",
    "          .mean().sort_values(by=sort, ascending=False).head(5))\n",
    "    print('---------------------------------')\n",
    "    print(\"Bottom 5 {}'s ordered by {}\".format(group, sort))\n",
    "    print(data.groupby(group)[['Total Change Zscore', 'January 2017 Zscore', 'Average (2010-2017) Zscore', 'Std (2010-2017)']]\\\n",
    "          .mean().sort_values(by=sort, ascending=True).head(5))"
   ]
  },
  {
   "cell_type": "markdown",
   "metadata": {},
   "source": [
    "# General Investigation"
   ]
  },
  {
   "cell_type": "code",
   "execution_count": 162,
   "metadata": {
    "collapsed": false
   },
   "outputs": [
    {
     "data": {
      "text/html": [
       "<div>\n",
       "<table border=\"1\" class=\"dataframe\">\n",
       "  <thead>\n",
       "    <tr style=\"text-align: right;\">\n",
       "      <th></th>\n",
       "      <th>City Code</th>\n",
       "      <th>City</th>\n",
       "      <th>Metro</th>\n",
       "      <th>County</th>\n",
       "      <th>State</th>\n",
       "      <th>Population Rank</th>\n",
       "      <th>November 2010</th>\n",
       "      <th>December 2010</th>\n",
       "      <th>January 2011</th>\n",
       "      <th>February 2011</th>\n",
       "      <th>...</th>\n",
       "      <th>October 2016</th>\n",
       "      <th>November 2016</th>\n",
       "      <th>December 2016</th>\n",
       "      <th>January 2017</th>\n",
       "      <th>Total Change</th>\n",
       "      <th>Percent Change</th>\n",
       "      <th>Year Change</th>\n",
       "      <th>Year Percent Change</th>\n",
       "      <th>Average (2010-2017)</th>\n",
       "      <th>Std (2010-2017)</th>\n",
       "    </tr>\n",
       "  </thead>\n",
       "  <tbody>\n",
       "    <tr>\n",
       "      <th>0</th>\n",
       "      <td>6181</td>\n",
       "      <td>New York</td>\n",
       "      <td>New York</td>\n",
       "      <td>Queens</td>\n",
       "      <td>NY</td>\n",
       "      <td>1</td>\n",
       "      <td>NaN</td>\n",
       "      <td>NaN</td>\n",
       "      <td>NaN</td>\n",
       "      <td>NaN</td>\n",
       "      <td>...</td>\n",
       "      <td>2318</td>\n",
       "      <td>2321</td>\n",
       "      <td>2321</td>\n",
       "      <td>2322</td>\n",
       "      <td>NaN</td>\n",
       "      <td>NaN</td>\n",
       "      <td>-13</td>\n",
       "      <td>-0.556745</td>\n",
       "      <td>2089.645161</td>\n",
       "      <td>207.087856</td>\n",
       "    </tr>\n",
       "    <tr>\n",
       "      <th>1</th>\n",
       "      <td>12447</td>\n",
       "      <td>Los Angeles</td>\n",
       "      <td>Los Angeles</td>\n",
       "      <td>Los Angeles</td>\n",
       "      <td>CA</td>\n",
       "      <td>2</td>\n",
       "      <td>2184.0</td>\n",
       "      <td>2184.0</td>\n",
       "      <td>2183.0</td>\n",
       "      <td>2188.0</td>\n",
       "      <td>...</td>\n",
       "      <td>2731</td>\n",
       "      <td>2740</td>\n",
       "      <td>2748</td>\n",
       "      <td>2753</td>\n",
       "      <td>569.0</td>\n",
       "      <td>26.053114</td>\n",
       "      <td>157</td>\n",
       "      <td>6.047766</td>\n",
       "      <td>2355.293333</td>\n",
       "      <td>193.210064</td>\n",
       "    </tr>\n",
       "    <tr>\n",
       "      <th>2</th>\n",
       "      <td>17426</td>\n",
       "      <td>Chicago</td>\n",
       "      <td>Chicago</td>\n",
       "      <td>Cook</td>\n",
       "      <td>IL</td>\n",
       "      <td>3</td>\n",
       "      <td>1563.0</td>\n",
       "      <td>1555.0</td>\n",
       "      <td>1547.0</td>\n",
       "      <td>1537.0</td>\n",
       "      <td>...</td>\n",
       "      <td>1668</td>\n",
       "      <td>1656</td>\n",
       "      <td>1644</td>\n",
       "      <td>1632</td>\n",
       "      <td>69.0</td>\n",
       "      <td>4.414587</td>\n",
       "      <td>-36</td>\n",
       "      <td>-2.158273</td>\n",
       "      <td>1587.386667</td>\n",
       "      <td>74.601807</td>\n",
       "    </tr>\n",
       "    <tr>\n",
       "      <th>3</th>\n",
       "      <td>39051</td>\n",
       "      <td>Houston</td>\n",
       "      <td>Houston</td>\n",
       "      <td>Harris</td>\n",
       "      <td>TX</td>\n",
       "      <td>4</td>\n",
       "      <td>1198.0</td>\n",
       "      <td>1199.0</td>\n",
       "      <td>1199.0</td>\n",
       "      <td>1200.0</td>\n",
       "      <td>...</td>\n",
       "      <td>1437</td>\n",
       "      <td>1437</td>\n",
       "      <td>1435</td>\n",
       "      <td>1430</td>\n",
       "      <td>232.0</td>\n",
       "      <td>19.365609</td>\n",
       "      <td>-6</td>\n",
       "      <td>-0.417827</td>\n",
       "      <td>1300.546667</td>\n",
       "      <td>99.522548</td>\n",
       "    </tr>\n",
       "    <tr>\n",
       "      <th>4</th>\n",
       "      <td>13271</td>\n",
       "      <td>Philadelphia</td>\n",
       "      <td>Philadelphia</td>\n",
       "      <td>Philadelphia</td>\n",
       "      <td>PA</td>\n",
       "      <td>5</td>\n",
       "      <td>1092.0</td>\n",
       "      <td>1099.0</td>\n",
       "      <td>1094.0</td>\n",
       "      <td>1087.0</td>\n",
       "      <td>...</td>\n",
       "      <td>1216</td>\n",
       "      <td>1211</td>\n",
       "      <td>1209</td>\n",
       "      <td>1212</td>\n",
       "      <td>120.0</td>\n",
       "      <td>10.989011</td>\n",
       "      <td>16</td>\n",
       "      <td>1.337793</td>\n",
       "      <td>1129.986667</td>\n",
       "      <td>51.131387</td>\n",
       "    </tr>\n",
       "  </tbody>\n",
       "</table>\n",
       "<p>5 rows × 87 columns</p>\n",
       "</div>"
      ],
      "text/plain": [
       "   City Code          City         Metro        County State  Population Rank  \\\n",
       "0       6181      New York      New York        Queens    NY                1   \n",
       "1      12447   Los Angeles   Los Angeles   Los Angeles    CA                2   \n",
       "2      17426       Chicago       Chicago          Cook    IL                3   \n",
       "3      39051       Houston       Houston        Harris    TX                4   \n",
       "4      13271  Philadelphia  Philadelphia  Philadelphia    PA                5   \n",
       "\n",
       "   November 2010  December 2010  January 2011  February 2011       ...         \\\n",
       "0            NaN            NaN           NaN            NaN       ...          \n",
       "1         2184.0         2184.0        2183.0         2188.0       ...          \n",
       "2         1563.0         1555.0        1547.0         1537.0       ...          \n",
       "3         1198.0         1199.0        1199.0         1200.0       ...          \n",
       "4         1092.0         1099.0        1094.0         1087.0       ...          \n",
       "\n",
       "   October 2016  November 2016  December 2016  January 2017  Total Change  \\\n",
       "0          2318           2321           2321          2322           NaN   \n",
       "1          2731           2740           2748          2753         569.0   \n",
       "2          1668           1656           1644          1632          69.0   \n",
       "3          1437           1437           1435          1430         232.0   \n",
       "4          1216           1211           1209          1212         120.0   \n",
       "\n",
       "   Percent Change  Year Change  Year Percent Change  Average (2010-2017)  \\\n",
       "0             NaN          -13            -0.556745          2089.645161   \n",
       "1       26.053114          157             6.047766          2355.293333   \n",
       "2        4.414587          -36            -2.158273          1587.386667   \n",
       "3       19.365609           -6            -0.417827          1300.546667   \n",
       "4       10.989011           16             1.337793          1129.986667   \n",
       "\n",
       "   Std (2010-2017)  \n",
       "0       207.087856  \n",
       "1       193.210064  \n",
       "2        74.601807  \n",
       "3        99.522548  \n",
       "4        51.131387  \n",
       "\n",
       "[5 rows x 87 columns]"
      ]
     },
     "execution_count": 162,
     "metadata": {},
     "output_type": "execute_result"
    }
   ],
   "source": [
    "df = createCols(df)\n",
    "df.head()"
   ]
  },
  {
   "cell_type": "markdown",
   "metadata": {},
   "source": [
    "## Nationwide"
   ]
  },
  {
   "cell_type": "code",
   "execution_count": 163,
   "metadata": {
    "collapsed": false
   },
   "outputs": [
    {
     "name": "stdout",
     "output_type": "stream",
     "text": [
      "Mean rent (Nov, 2010) in US: $1327.1\n",
      "Standard Deviation of rent (Nov, 2010) in US: $652.531\n",
      "Mean rent (Jan, 2017) in US: $1467.3\n",
      "Standard Deviation of rent in US (Jan, 2017): $820.708\n",
      "------------------------------------------------------\n",
      "Mean total change in US: $137.95\n",
      "Standard Deviation of total change in US: $263.985\n",
      "Mean percent change in US: 9.376%\n",
      "------------------------------------------------------\n",
      "Mean 1 year change in US: $17.55\n",
      "Standard Deviation of 1 year change in US: $94.178\n",
      "Mean 1 year percent change in US: 1.214%\n"
     ]
    }
   ],
   "source": [
    "summarizeArea(df, 'US')"
   ]
  },
  {
   "cell_type": "code",
   "execution_count": 164,
   "metadata": {
    "collapsed": false
   },
   "outputs": [
    {
     "name": "stdout",
     "output_type": "stream",
     "text": [
      "Minimum total change: -1367.0\n",
      "City Code              398547\n",
      "City         Town of Westerly\n",
      "Metro              Providence\n",
      "County             Washington\n",
      "State                      RI\n",
      "Name: 2284, dtype: object\n",
      "-------------------------------\n",
      "Maximum total change: 5422.0\n",
      "City Code            30280\n",
      "City              Atherton\n",
      "Metro        San Francisco\n",
      "County           San Mateo\n",
      "State                   CA\n",
      "Name: 5151, dtype: object\n"
     ]
    }
   ],
   "source": [
    "print('Minimum total change: ' + str(df['Total Change'].min()))\n",
    "print(df.loc[df['Total Change'].idxmin(),:].head(5))\n",
    "print('-------------------------------')\n",
    "print('Maximum total change: ' + str(df['Total Change'].max()))\n",
    "print(df.loc[df['Total Change'].idxmax(),:].head(5))"
   ]
  },
  {
   "cell_type": "code",
   "execution_count": 165,
   "metadata": {
    "collapsed": false
   },
   "outputs": [
    {
     "name": "stdout",
     "output_type": "stream",
     "text": [
      "Most expensive median rent as of Jan, 2017\n",
      "\n",
      "City Code            124901\n",
      "City         Jupiter Island\n",
      "Metro        Port St. Lucie\n",
      "County               Martin\n",
      "State                    FL\n",
      "Name: 12234, dtype: object\n",
      "\n",
      "$17985\n"
     ]
    }
   ],
   "source": [
    "print('Most expensive median rent as of Jan, 2017')\n",
    "print()\n",
    "print(df.loc[df['January 2017'].idxmax(),:].head(5))\n",
    "print()\n",
    "print('$'+str(df['January 2017'].max()))"
   ]
  },
  {
   "cell_type": "code",
   "execution_count": 166,
   "metadata": {
    "collapsed": false
   },
   "outputs": [
    {
     "name": "stdout",
     "output_type": "stream",
     "text": [
      "Least expensive median rent as of Jan, 2017\n",
      "\n",
      "City Code     166526\n",
      "City         Beecher\n",
      "Metro          Flint\n",
      "County       Genesee\n",
      "State             MI\n",
      "Name: 4083, dtype: object\n",
      "\n",
      "$518\n"
     ]
    }
   ],
   "source": [
    "print('Least expensive median rent as of Jan, 2017')\n",
    "print()\n",
    "print(df.loc[df['January 2017'].idxmin(),:].head(5))\n",
    "print()\n",
    "print('$'+str(df['January 2017'].min()))"
   ]
  },
  {
   "cell_type": "markdown",
   "metadata": {},
   "source": [
    "## Remarks on Nationwide Findings\n",
    "\n",
    "Mean rent (Nov, 2010) in US: `$`1327.1\n",
    "\n",
    "Mean rent (Jan, 2017) in US: `$`1467.3\n",
    "\n",
    "Mean total change in US between 2010 and 2017: `$`137.95\n",
    "\n",
    "Mean percent change in US between 2010 and 2017: 9.376%\n",
    "\n",
    "\n",
    "- Atherton, CA experienced the greatest increase in median rental rates with a jump of `$`5422.00 per month between 2010 and 2017\n",
    "- Providence, RI experienced the greatest decrease in median rental rates with a drop of `$`1367.00 per month between 2010 and 2017\n",
    "- As of January, 2017 Jupiter Island, FL has the highest median rental rates in the country at `$`17985 per month\n",
    "- As of January 2017 Beecher, Michigan has the lowest median rental rates in the country at `$`518 per month\n",
    "\n"
   ]
  },
  {
   "cell_type": "markdown",
   "metadata": {},
   "source": [
    "## By State"
   ]
  },
  {
   "cell_type": "code",
   "execution_count": 167,
   "metadata": {
    "collapsed": false
   },
   "outputs": [
    {
     "name": "stdout",
     "output_type": "stream",
     "text": [
      "Top 5 State's ordered by Total Change\n",
      "       Total Change  January 2017  Average (2010-2017)  Std (2010-2017)\n",
      "State                                                                  \n",
      "OR       408.746988   1486.405405          1254.923186       122.994959\n",
      "DC       395.000000   2569.000000          2429.413333        90.075208\n",
      "CO       390.910828   1751.606742          1537.431834       145.697187\n",
      "CA       388.886179   2408.163978          2105.223695       190.986028\n",
      "MA       358.000000   2105.573826          1870.123087       151.059451\n",
      "---------------------------------\n",
      "Bottom 5 State's ordered by Total Change\n",
      "       Total Change  January 2017  Average (2010-2017)  Std (2010-2017)\n",
      "State                                                                  \n",
      "MI       -32.180693   1125.536542          1064.716326        78.496106\n",
      "WV       -21.578313    983.767677          1018.528708        56.868203\n",
      "LA        -7.397590   1205.233766          1226.918010        66.798279\n",
      "IL        -6.361111   1459.515845          1449.544660        73.475990\n",
      "NM        -1.206897   1142.661017          1161.725907        58.863700\n"
     ]
    }
   ],
   "source": [
    "summarizeGroup(df, 'State')"
   ]
  },
  {
   "cell_type": "code",
   "execution_count": 168,
   "metadata": {
    "collapsed": false
   },
   "outputs": [
    {
     "name": "stdout",
     "output_type": "stream",
     "text": [
      "Top 5 State's ordered by Total Change Zscore\n",
      "       Total Change Zscore  January 2017 Zscore  Average (2010-2017) Zscore  \\\n",
      "State                                                                         \n",
      "OR                1.025802             0.023283                   -0.174577   \n",
      "DC                0.973727             1.342382                    1.471326   \n",
      "CO                0.958237             0.346421                    0.221324   \n",
      "CA                0.950567             1.146410                    1.017015   \n",
      "MA                0.833567             0.777716                    0.687550   \n",
      "\n",
      "       Std (2010-2017)  \n",
      "State                   \n",
      "OR          122.994959  \n",
      "DC           90.075208  \n",
      "CO          145.697187  \n",
      "CA          190.986028  \n",
      "MA          151.059451  \n",
      "---------------------------------\n",
      "Bottom 5 State's ordered by Total Change Zscore\n",
      "       Total Change Zscore  January 2017 Zscore  Average (2010-2017) Zscore  \\\n",
      "State                                                                         \n",
      "MI               -0.644477            -0.416421                   -0.441128   \n",
      "WV               -0.604314            -0.589161                   -0.505854   \n",
      "LA               -0.550596            -0.319313                   -0.213822   \n",
      "IL               -0.546669            -0.009480                    0.098161   \n",
      "NM               -0.527145            -0.395556                   -0.305181   \n",
      "\n",
      "       Std (2010-2017)  \n",
      "State                   \n",
      "MI           78.496106  \n",
      "WV           56.868203  \n",
      "LA           66.798279  \n",
      "IL           73.475990  \n",
      "NM           58.863700  \n"
     ]
    }
   ],
   "source": [
    "summarizeGroupZs(df_z, 'State')"
   ]
  },
  {
   "cell_type": "code",
   "execution_count": 169,
   "metadata": {
    "collapsed": false
   },
   "outputs": [
    {
     "name": "stdout",
     "output_type": "stream",
     "text": [
      "Top 5 State's ordered by Average (2010-2017)\n",
      "       Total Change  January 2017  Average (2010-2017)  Std (2010-2017)\n",
      "State                                                                  \n",
      "DC       395.000000   2569.000000          2429.413333        90.075208\n",
      "CA       388.886179   2408.163978          2105.223695       190.986028\n",
      "NJ       168.358696   2146.907609          2034.977271       107.352387\n",
      "HI       339.296296   2157.296296          1954.977778       143.780971\n",
      "MA       358.000000   2105.573826          1870.123087       151.059451\n",
      "---------------------------------\n",
      "Bottom 5 State's ordered by Average (2010-2017)\n",
      "       Total Change  January 2017  Average (2010-2017)  Std (2010-2017)\n",
      "State                                                                  \n",
      "OK        95.277108    910.069364           887.115275        55.557689\n",
      "AR       124.531915    951.986395           911.698417        53.406380\n",
      "ID              NaN   1106.000000           981.057514        74.440319\n",
      "AL        56.329670   1010.206278           985.833930        53.763295\n",
      "IN        32.467290   1045.346505           989.792354        56.466622\n"
     ]
    }
   ],
   "source": [
    "summarizeGroup(df, 'State', sort='Average (2010-2017)')"
   ]
  },
  {
   "cell_type": "code",
   "execution_count": 170,
   "metadata": {
    "collapsed": false
   },
   "outputs": [
    {
     "name": "stdout",
     "output_type": "stream",
     "text": [
      "Top 5 State's ordered by Average (2010-2017) Zscore\n",
      "       Total Change Zscore  January 2017 Zscore  Average (2010-2017) Zscore  \\\n",
      "State                                                                         \n",
      "DC                0.973727             1.342382                    1.471326   \n",
      "CA                0.950567             1.146410                    1.017015   \n",
      "NJ                0.115187             0.828079                    0.918573   \n",
      "HI                0.762716             0.840738                    0.806463   \n",
      "MA                0.833567             0.777716                    0.687550   \n",
      "\n",
      "       Std (2010-2017)  \n",
      "State                   \n",
      "DC           90.075208  \n",
      "CA          190.986028  \n",
      "NJ          107.352387  \n",
      "HI          143.780971  \n",
      "MA          151.059451  \n",
      "---------------------------------\n",
      "Bottom 5 State's ordered by Average (2010-2017) Zscore\n",
      "       Total Change Zscore  January 2017 Zscore  Average (2010-2017) Zscore  \\\n",
      "State                                                                         \n",
      "OK               -0.161654            -0.678959                   -0.690014   \n",
      "AR               -0.050834            -0.627885                   -0.655564   \n",
      "ID                     NaN            -0.440226                   -0.558365   \n",
      "AL               -0.309190            -0.556947                   -0.551672   \n",
      "IN               -0.399584            -0.514130                   -0.546125   \n",
      "\n",
      "       Std (2010-2017)  \n",
      "State                   \n",
      "OK           55.557689  \n",
      "AR           53.406380  \n",
      "ID           74.440319  \n",
      "AL           53.763295  \n",
      "IN           56.466622  \n"
     ]
    }
   ],
   "source": [
    "summarizeGroupZs(df_z, 'State', sort='Average (2010-2017) Zscore')"
   ]
  },
  {
   "cell_type": "markdown",
   "metadata": {},
   "source": [
    "## Remarks for State grouping\n",
    "\n",
    "- The highest total change in average listing when grouped by State occurs in Oregon. Here, average rental rates increased by `$`408.75 (1.026σ's above mean national increase).\n",
    "\n",
    "- The highest average rental price among the States between 2010 and 2017 is `$`2439.41 (1.471σ's above mean national rate) and is found in Washington, D.C.\n",
    "\n",
    "- Michigan experienced the greatest drop in mean rental rates at a mean decrease of `$`32.18 (.644σ's below mean national increase).\n",
    "\n",
    "- Oklahoma has the lowest average rental rates between 2010 and 2017 with a value of `$`887.12 (.69σ's below mean national rate).\n"
   ]
  },
  {
   "cell_type": "markdown",
   "metadata": {},
   "source": [
    "## By Metro"
   ]
  },
  {
   "cell_type": "code",
   "execution_count": 171,
   "metadata": {
    "collapsed": false
   },
   "outputs": [
    {
     "name": "stdout",
     "output_type": "stream",
     "text": [
      "Top 5 Metro's ordered by Total Change\n",
      "               Total Change  January 2017  Average (2010-2017)  \\\n",
      "Metro                                                            \n",
      "San Jose        1230.541667   4381.875000          3729.616667   \n",
      "San Francisco   1096.728395   4360.012346          3641.319835   \n",
      "Brunswick        851.600000   3353.800000          2525.410667   \n",
      "Edwards          824.750000   3697.250000          2994.706667   \n",
      "Fort Myers       807.900000   2969.900000          2351.640000   \n",
      "\n",
      "               Std (2010-2017)  \n",
      "Metro                           \n",
      "San Jose            515.522666  \n",
      "San Francisco       529.984476  \n",
      "Brunswick           391.788491  \n",
      "Edwards             369.322484  \n",
      "Fort Myers          334.710523  \n",
      "---------------------------------\n",
      "Bottom 5 Metro's ordered by Total Change\n",
      "            Total Change  January 2017  Average (2010-2017)  Std (2010-2017)\n",
      "Metro                                                                       \n",
      "El Centro         -500.2        1182.4          1264.992000       188.784023\n",
      "Alpena            -283.0         873.5           918.153333        91.905099\n",
      "Jamestown         -265.6        1239.6          1432.216000       145.810997\n",
      "Los Alamos        -258.0        1364.0          1389.080000        80.228350\n",
      "Niles             -256.5         888.0           951.086667       122.833564\n"
     ]
    }
   ],
   "source": [
    "summarizeGroup(df, 'Metro')"
   ]
  },
  {
   "cell_type": "code",
   "execution_count": 172,
   "metadata": {
    "collapsed": false
   },
   "outputs": [
    {
     "name": "stdout",
     "output_type": "stream",
     "text": [
      "Top 5 Metro's ordered by Total Change Zscore\n",
      "               Total Change Zscore  January 2017 Zscore  \\\n",
      "Metro                                                     \n",
      "San Jose                  4.138842             3.551300   \n",
      "San Francisco             3.631944             3.524661   \n",
      "Brunswick                 2.703373             2.298630   \n",
      "Edwards                   2.601663             2.717111   \n",
      "Fort Myers                2.537833             1.830863   \n",
      "\n",
      "               Average (2010-2017) Zscore  Std (2010-2017)  \n",
      "Metro                                                       \n",
      "San Jose                         3.293401       515.522666  \n",
      "San Francisco                    3.169664       529.984476  \n",
      "Brunswick                        1.605855       391.788491  \n",
      "Edwards                          2.263515       369.322484  \n",
      "Fort Myers                       1.362337       334.710523  \n",
      "---------------------------------\n",
      "Bottom 5 Metro's ordered by Total Change Zscore\n",
      "            Total Change Zscore  January 2017 Zscore  \\\n",
      "Metro                                                  \n",
      "El Centro             -2.417381            -0.347135   \n",
      "Alpena                -1.594605            -0.723518   \n",
      "Jamestown             -1.528692            -0.277439   \n",
      "Los Alamos            -1.499903            -0.125863   \n",
      "Niles                 -1.494221            -0.705850   \n",
      "\n",
      "            Average (2010-2017) Zscore  Std (2010-2017)  \n",
      "Metro                                                    \n",
      "El Centro                    -0.160466       188.784023  \n",
      "Alpena                       -0.646518        91.905099  \n",
      "Jamestown                     0.073877       145.810997  \n",
      "Los Alamos                    0.013428        80.228350  \n",
      "Niles                        -0.600366       122.833564  \n"
     ]
    }
   ],
   "source": [
    "summarizeGroupZs(df_z, 'Metro')"
   ]
  },
  {
   "cell_type": "code",
   "execution_count": 173,
   "metadata": {
    "collapsed": false
   },
   "outputs": [
    {
     "name": "stdout",
     "output_type": "stream",
     "text": [
      "Top 5 Metro's ordered by Average (2010-2017)\n",
      "                Total Change  January 2017  Average (2010-2017)  \\\n",
      "Metro                                                             \n",
      "San Jose         1230.541667   4381.875000          3729.616667   \n",
      "San Francisco    1096.728395   4360.012346          3641.319835   \n",
      "Port St. Lucie    301.000000   2973.076923          3056.201026   \n",
      "Edwards           824.750000   3697.250000          2994.706667   \n",
      "Stamford          293.772727   2916.090909          2769.458788   \n",
      "\n",
      "                Std (2010-2017)  \n",
      "Metro                            \n",
      "San Jose             515.522666  \n",
      "San Francisco        529.984476  \n",
      "Port St. Lucie       226.562010  \n",
      "Edwards              369.322484  \n",
      "Stamford             114.415457  \n",
      "---------------------------------\n",
      "Bottom 5 Metro's ordered by Average (2010-2017)\n",
      "             Total Change  January 2017  Average (2010-2017)  Std (2010-2017)\n",
      "Metro                                                                        \n",
      "Coffeyville     -9.250000    660.500000           686.643333        28.374811\n",
      "Emporia               NaN    774.000000           695.724138        92.432772\n",
      "Altus           34.000000    716.000000           714.466667        27.176268\n",
      "Great Bend      84.000000    720.666667           723.053333        41.554304\n",
      "Youngstown       9.363636    774.181818           729.884848        54.827736\n"
     ]
    }
   ],
   "source": [
    "summarizeGroup(df, 'Metro', sort='Average (2010-2017)')"
   ]
  },
  {
   "cell_type": "code",
   "execution_count": 174,
   "metadata": {
    "collapsed": false
   },
   "outputs": [
    {
     "name": "stdout",
     "output_type": "stream",
     "text": [
      "Top 5 Metro's ordered by Average (2010-2017) Zscore\n",
      "                Total Change Zscore  January 2017 Zscore  \\\n",
      "Metro                                                      \n",
      "San Jose                   4.138842             3.551300   \n",
      "San Francisco              3.631944             3.524661   \n",
      "Port St. Lucie             0.617645             1.834734   \n",
      "Edwards                    2.601663             2.717111   \n",
      "Stamford                   0.590268             1.765299   \n",
      "\n",
      "                Average (2010-2017) Zscore  Std (2010-2017)  \n",
      "Metro                                                        \n",
      "San Jose                          3.293401       515.522666  \n",
      "San Francisco                     3.169664       529.984476  \n",
      "Port St. Lucie                    2.349692       226.562010  \n",
      "Edwards                           2.263515       369.322484  \n",
      "Stamford                          1.947858       114.415457  \n",
      "---------------------------------\n",
      "Bottom 5 Metro's ordered by Average (2010-2017) Zscore\n",
      "             Total Change Zscore  January 2017 Zscore  \\\n",
      "Metro                                                   \n",
      "Coffeyville            -0.557613            -0.983050   \n",
      "Emporia                      NaN            -0.844755   \n",
      "Altus                  -0.393778            -0.915425   \n",
      "Great Bend             -0.204372            -0.909739   \n",
      "Youngstown             -0.487103            -0.844533   \n",
      "\n",
      "             Average (2010-2017) Zscore  Std (2010-2017)  \n",
      "Metro                                                     \n",
      "Coffeyville                   -0.970951        28.374811  \n",
      "Emporia                       -0.958225        92.432772  \n",
      "Altus                         -0.931960        27.176268  \n",
      "Great Bend                    -0.919926        41.554304  \n",
      "Youngstown                    -0.910353        54.827736  \n"
     ]
    }
   ],
   "source": [
    "summarizeGroupZs(df_z, 'Metro', sort='Average (2010-2017) Zscore')"
   ]
  },
  {
   "cell_type": "markdown",
   "metadata": {},
   "source": [
    "## Remarks for Metropolitan Areas\n",
    "\n",
    "- The highest median rent and highest increase in median rent when grouped by Metropolitan area is San Jose, CA with a mean increase in the median rental price of `$`1,230.54 (4.14σ's above mean national change) between 2010 and 2017. Currently, San Jose has a mean rental price of `$`4,381.88 (3.551σ's above national average). San Francisco is second in terms of these metrics giving credence to the idea that the Bay Area's rent/housing issue is unparalleled.\n",
    "\n",
    "- The greatest decrease in median rent between 2010 and 2017 was experienced in El Centro, CA. During this time El Centro's median rental rate decreased `$`500.2 on average (-2.417σ's below mean national change) to `$`1182.40. \n",
    "\n",
    "- CoffeyVille, KS is the cheapest Metropolitan area to rent in with an average monthly rate of `$`686.64 (-0.971σ's below national average)\n"
   ]
  },
  {
   "cell_type": "markdown",
   "metadata": {},
   "source": [
    "# Investigation of Oregon"
   ]
  },
  {
   "cell_type": "code",
   "execution_count": 175,
   "metadata": {
    "collapsed": false
   },
   "outputs": [
    {
     "name": "stdout",
     "output_type": "stream",
     "text": [
      "Mean rent (Nov, 2010) in Oregon: $1084.62\n",
      "Standard Deviation of rent (Nov, 2010) in Oregon: $213.919\n",
      "Mean rent (Jan, 2017) in Oregon: $1486.41\n",
      "Standard Deviation of rent in Oregon (Jan, 2017): $376.303\n",
      "------------------------------------------------------\n",
      "Mean total change in Oregon: $408.75\n",
      "Standard Deviation of total change in Oregon: $197.289\n",
      "Mean percent change in Oregon: 36.389%\n",
      "------------------------------------------------------\n",
      "Mean 1 year change in Oregon: $93.91\n",
      "Standard Deviation of 1 year change in Oregon: $46.121\n",
      "Mean 1 year percent change in Oregon: 7.221%\n"
     ]
    }
   ],
   "source": [
    "df_or = df.loc[df['State'] == 'OR']\n",
    "##df_or.head()\n",
    "summarizeArea(df_or, 'Oregon')"
   ]
  },
  {
   "cell_type": "code",
   "execution_count": 176,
   "metadata": {
    "collapsed": false
   },
   "outputs": [],
   "source": [
    "## df_me = df.loc[df['State'] == 'ME']\n",
    "## df_me.head()"
   ]
  },
  {
   "cell_type": "code",
   "execution_count": 177,
   "metadata": {
    "collapsed": false
   },
   "outputs": [
    {
     "name": "stdout",
     "output_type": "stream",
     "text": [
      "Top 5 County's ordered by Average (2010-2017) Zscore\n",
      "            Total Change Zscore  January 2017 Zscore  \\\n",
      "County                                                 \n",
      "Clackamas              1.964233             0.591970   \n",
      "Washington             1.745237             0.610146   \n",
      "Hood River             1.288139             0.345682   \n",
      "Clatsop                     NaN             0.207792   \n",
      "Benton                      NaN             0.108488   \n",
      "\n",
      "            Average (2010-2017) Zscore  Std (2010-2017)  \n",
      "County                                                   \n",
      "Clackamas                     0.357906       184.612069  \n",
      "Washington                    0.344534       187.549084  \n",
      "Hood River                    0.093315       144.521747  \n",
      "Clatsop                       0.052759       134.737198  \n",
      "Benton                        0.045547        85.900292  \n",
      "---------------------------------\n",
      "Bottom 5 County's ordered by Average (2010-2017) Zscore\n",
      "         Total Change Zscore  January 2017 Zscore  Average (2010-2017) Zscore  \\\n",
      "County                                                                          \n",
      "Klamath            -0.322561            -0.701951                   -0.792558   \n",
      "Douglas            -0.139101            -0.624026                   -0.711202   \n",
      "Lake                0.549459            -0.454847                   -0.650190   \n",
      "Crook               1.129039            -0.211155                   -0.567826   \n",
      "Malheur                  NaN            -0.388238                   -0.561563   \n",
      "\n",
      "         Std (2010-2017)  \n",
      "County                    \n",
      "Klamath        42.365881  \n",
      "Douglas        32.303873  \n",
      "Lake           83.328288  \n",
      "Crook         162.959784  \n",
      "Malheur        86.135788  \n"
     ]
    },
    {
     "name": "stderr",
     "output_type": "stream",
     "text": [
      "C:\\workspace\\Anaconda3\\lib\\site-packages\\ipykernel\\__main__.py:5: SettingWithCopyWarning: \n",
      "A value is trying to be set on a copy of a slice from a DataFrame.\n",
      "Try using .loc[row_indexer,col_indexer] = value instead\n",
      "\n",
      "See the caveats in the documentation: http://pandas.pydata.org/pandas-docs/stable/indexing.html#indexing-view-versus-copy\n"
     ]
    }
   ],
   "source": [
    "df_or = createZs(df_or, ['Total Change', 'January 2017', 'Average (2010-2017)'])\n",
    "summarizeGroupZs(df_or, 'County', sort='Average (2010-2017) Zscore' )"
   ]
  },
  {
   "cell_type": "code",
   "execution_count": 178,
   "metadata": {
    "collapsed": false
   },
   "outputs": [
    {
     "name": "stdout",
     "output_type": "stream",
     "text": [
      "Top 5 County's ordered by Average (2010-2017)\n",
      "            Total Change  January 2017  Average (2010-2017)  Std (2010-2017)\n",
      "County                                                                      \n",
      "Clackamas     656.478261   1953.130435          1634.894493       184.612069\n",
      "Washington    598.666667   1968.047619          1625.352381       187.549084\n",
      "Hood River    478.000000   1751.000000          1446.086667       144.521747\n",
      "Clatsop              NaN   1637.833333          1417.146552       134.737198\n",
      "Benton               NaN   1556.333333          1412.000000        85.900292\n",
      "---------------------------------\n",
      "Bottom 5 County's ordered by Average (2010-2017)\n",
      "         Total Change  January 2017  Average (2010-2017)  Std (2010-2017)\n",
      "County                                                                   \n",
      "Klamath     52.800000    891.200000           813.941333        42.365881\n",
      "Douglas    101.230769    955.153846           871.995897        32.303873\n",
      "Lake       283.000000   1094.000000           915.533333        83.328288\n",
      "Crook      436.000000   1294.000000           974.306667       162.959784\n",
      "Malheur           NaN   1148.666667           978.775862        86.135788\n"
     ]
    }
   ],
   "source": [
    "summarizeGroup(df_or, 'County', sort='Average (2010-2017)')"
   ]
  },
  {
   "cell_type": "code",
   "execution_count": 179,
   "metadata": {
    "collapsed": false
   },
   "outputs": [
    {
     "name": "stdout",
     "output_type": "stream",
     "text": [
      "Top 5 County's ordered by Total Change\n",
      "            Total Change  January 2017  Average (2010-2017)  Std (2010-2017)\n",
      "County                                                                      \n",
      "Clackamas     656.478261   1953.130435          1634.894493       184.612069\n",
      "Washington    598.666667   1968.047619          1625.352381       187.549084\n",
      "Deschutes     588.250000   1581.250000          1242.383333       220.283666\n",
      "Marion        485.000000   1505.200000          1229.475556       141.125595\n",
      "Hood River    478.000000   1751.000000          1446.086667       144.521747\n",
      "---------------------------------\n",
      "Bottom 5 County's ordered by Total Change\n",
      "           Total Change  January 2017  Average (2010-2017)  Std (2010-2017)\n",
      "County                                                                     \n",
      "Klamath       52.800000    891.200000           813.941333        42.365881\n",
      "Douglas      101.230769    955.153846           871.995897        32.303873\n",
      "Umatilla     205.000000   1137.285714          1016.512381        65.015868\n",
      "Lane         235.375000   1239.125000          1089.001667        68.555607\n",
      "Josephine    240.666667   1201.333333          1095.702222       119.393768\n"
     ]
    }
   ],
   "source": [
    "summarizeGroup(df_or, 'County')"
   ]
  },
  {
   "cell_type": "code",
   "execution_count": 180,
   "metadata": {
    "collapsed": false
   },
   "outputs": [
    {
     "name": "stdout",
     "output_type": "stream",
     "text": [
      "Top 5 County's ordered by Total Change Zscore\n",
      "            Total Change Zscore  January 2017 Zscore  \\\n",
      "County                                                 \n",
      "Clackamas              1.964233             0.591970   \n",
      "Washington             1.745237             0.610146   \n",
      "Deschutes              1.705777             0.138848   \n",
      "Marion                 1.314656             0.046184   \n",
      "Hood River             1.288139             0.345682   \n",
      "\n",
      "            Average (2010-2017) Zscore  Std (2010-2017)  \n",
      "County                                                   \n",
      "Clackamas                     0.357906       184.612069  \n",
      "Washington                    0.344534       187.549084  \n",
      "Deschutes                    -0.192150       220.283666  \n",
      "Marion                       -0.210238       141.125595  \n",
      "Hood River                    0.093315       144.521747  \n",
      "---------------------------------\n",
      "Bottom 5 County's ordered by Total Change Zscore\n",
      "           Total Change Zscore  January 2017 Zscore  \\\n",
      "County                                                \n",
      "Klamath              -0.322561            -0.701951   \n",
      "Douglas              -0.139101            -0.624026   \n",
      "Umatilla              0.253988            -0.402105   \n",
      "Lane                  0.369051            -0.278018   \n",
      "Josephine             0.389097            -0.324066   \n",
      "\n",
      "           Average (2010-2017) Zscore  Std (2010-2017)  \n",
      "County                                                  \n",
      "Klamath                     -0.792558        42.365881  \n",
      "Douglas                     -0.711202        32.303873  \n",
      "Umatilla                    -0.508680        65.015868  \n",
      "Lane                        -0.407095        68.555607  \n",
      "Josephine                   -0.397705       119.393768  \n"
     ]
    }
   ],
   "source": [
    "summarizeGroupZs(df_or, 'County')"
   ]
  },
  {
   "cell_type": "code",
   "execution_count": 181,
   "metadata": {
    "collapsed": false
   },
   "outputs": [
    {
     "name": "stdout",
     "output_type": "stream",
     "text": [
      "Mean rent (Nov, 2010) in Portland, OR: $1263.84\n",
      "Standard Deviation of rent (Nov, 2010) in Portland, OR: $199.865\n",
      "Mean rent (Jan, 2017) in Portland, OR: $1828.78\n",
      "Standard Deviation of rent in Portland, OR (Jan, 2017): $337.622\n",
      "------------------------------------------------------\n",
      "Mean total change in Portland, OR: $564.94\n",
      "Standard Deviation of total change in Portland, OR: $160.482\n",
      "Mean percent change in Portland, OR: 44.34%\n",
      "------------------------------------------------------\n",
      "Mean 1 year change in Portland, OR: $104.3\n",
      "Standard Deviation of 1 year change in Portland, OR: $42.049\n",
      "Mean 1 year percent change in Portland, OR: 6.394%\n"
     ]
    }
   ],
   "source": [
    "df_portland = df.loc[(df['Metro'] == 'Portland') & (df['State'] == 'OR')]\n",
    "summarizeArea(df_portland, 'Portland, OR')\n"
   ]
  },
  {
   "cell_type": "code",
   "execution_count": 182,
   "metadata": {
    "collapsed": false
   },
   "outputs": [
    {
     "name": "stdout",
     "output_type": "stream",
     "text": [
      "Top 5 County's ordered by Average (2010-2017) Zscore\n",
      "            Total Change Zscore  January 2017 Zscore  \\\n",
      "County                                                 \n",
      "Clackamas              1.964233             0.591970   \n",
      "Washington             1.745237             0.610146   \n",
      "Multnomah              1.278290             0.310834   \n",
      "Yamhill                0.997402            -0.026254   \n",
      "Columbia               0.950367            -0.004017   \n",
      "\n",
      "            Average (2010-2017) Zscore  Std (2010-2017)  \n",
      "County                                                   \n",
      "Clackamas                     0.357906       184.612069  \n",
      "Washington                    0.344534       187.549084  \n",
      "Multnomah                     0.033428       165.749165  \n",
      "Yamhill                      -0.242340       107.842603  \n",
      "Columbia                     -0.285072       117.799338  \n",
      "---------------------------------\n",
      "Bottom 5 County's ordered by Average (2010-2017) Zscore\n",
      "            Total Change Zscore  January 2017 Zscore  \\\n",
      "County                                                 \n",
      "Columbia               0.950367            -0.004017   \n",
      "Yamhill                0.997402            -0.026254   \n",
      "Multnomah              1.278290             0.310834   \n",
      "Washington             1.745237             0.610146   \n",
      "Clackamas              1.964233             0.591970   \n",
      "\n",
      "            Average (2010-2017) Zscore  Std (2010-2017)  \n",
      "County                                                   \n",
      "Columbia                     -0.285072       117.799338  \n",
      "Yamhill                      -0.242340       107.842603  \n",
      "Multnomah                     0.033428       165.749165  \n",
      "Washington                    0.344534       187.549084  \n",
      "Clackamas                     0.357906       184.612069  \n"
     ]
    },
    {
     "name": "stderr",
     "output_type": "stream",
     "text": [
      "C:\\workspace\\Anaconda3\\lib\\site-packages\\ipykernel\\__main__.py:5: SettingWithCopyWarning: \n",
      "A value is trying to be set on a copy of a slice from a DataFrame.\n",
      "Try using .loc[row_indexer,col_indexer] = value instead\n",
      "\n",
      "See the caveats in the documentation: http://pandas.pydata.org/pandas-docs/stable/indexing.html#indexing-view-versus-copy\n"
     ]
    }
   ],
   "source": [
    "df_portland = createZs(df_portland, ['Total Change', 'January 2017', 'Average (2010-2017)'])\n",
    "summarizeGroupZs(df_portland, 'County', sort='Average (2010-2017) Zscore' )"
   ]
  },
  {
   "cell_type": "code",
   "execution_count": 183,
   "metadata": {
    "collapsed": false
   },
   "outputs": [
    {
     "name": "stdout",
     "output_type": "stream",
     "text": [
      "Top 10 most expensive cities in Oregon\n",
      "                   City  January 2017\n",
      "5584      Raleigh Hills          2884\n",
      "3165         Cedar Mill          2630\n",
      "1162        Lake Oswego          2570\n",
      "2265       Happy Valley          2455\n",
      "1942          West Linn          2445\n",
      "5239  West Haven-Sylvan          2356\n",
      "5735         West Slope          2321\n",
      "3280        Wilsonville          2288\n",
      "5454           Damascus          2262\n",
      "6104          Clackamas          2131\n"
     ]
    }
   ],
   "source": [
    "print('Top 10 most expensive cities in Oregon')\n",
    "print(df_or.sort_values(by='January 2017', ascending=False)[['City', 'January 2017']].head(10))"
   ]
  },
  {
   "cell_type": "code",
   "execution_count": 184,
   "metadata": {
    "collapsed": false
   },
   "outputs": [
    {
     "name": "stdout",
     "output_type": "stream",
     "text": [
      "Highest price increases (Jan, 2016 vs Jan, 2017) in Oregon\n",
      "\n",
      "                City  Year Change  January 2017  Total Change\n",
      "1694         Newberg          234          1695         498.0\n",
      "6923          Dundee          218          1682         400.0\n",
      "4454       Scappoose          184          1638         453.0\n",
      "7641          Bandon          182          1354         355.0\n",
      "11931  Columbia City          176          1647         383.0\n",
      "10655          Glide          172          1062         130.0\n",
      "12314    Millersburg          172          1617         419.0\n",
      "5800        Coquille          171          1151         315.0\n",
      "9316          Madras          169          1143         340.0\n",
      "4468       Cornelius          169          1646         484.0\n"
     ]
    }
   ],
   "source": [
    "print('Highest price increases (Jan, 2016 vs Jan, 2017) in Oregon')\n",
    "print()\n",
    "print(df_or.sort_values(by='Year Change', ascending=False)[['City', 'Year Change', 'January 2017', 'Total Change']].head(10))"
   ]
  },
  {
   "cell_type": "code",
   "execution_count": 185,
   "metadata": {
    "collapsed": false
   },
   "outputs": [
    {
     "name": "stdout",
     "output_type": "stream",
     "text": [
      "Highest Average price (Nov, 2010 to Jan, 2017) in Oregon\n",
      "\n",
      "                   City  Average (2010-2017)  January 2017\n",
      "5584      Raleigh Hills          2394.093333          2884\n",
      "3165         Cedar Mill          2198.186667          2630\n",
      "1162        Lake Oswego          2156.146667          2570\n",
      "2265       Happy Valley          2045.813333          2455\n",
      "1942          West Linn          2018.986667          2445\n",
      "5239  West Haven-Sylvan          1930.893333          2356\n",
      "3280        Wilsonville          1876.253333          2288\n",
      "5735         West Slope          1848.066667          2321\n",
      "5454           Damascus          1833.626667          2262\n",
      "6104          Clackamas          1759.906667          2131\n"
     ]
    }
   ],
   "source": [
    "print('Highest Average price (Nov, 2010 to Jan, 2017) in Oregon')\n",
    "print()\n",
    "print(df_or.sort_values(by='Average (2010-2017)', ascending=False)[['City', 'Average (2010-2017)', 'January 2017']].head(10))"
   ]
  },
  {
   "cell_type": "code",
   "execution_count": 186,
   "metadata": {
    "collapsed": false
   },
   "outputs": [
    {
     "name": "stdout",
     "output_type": "stream",
     "text": [
      "Top 5 City's ordered by Total Change\n",
      "              Total Change  January 2017  Average (2010-2017)  Std (2010-2017)\n",
      "City                                                                          \n",
      "Happy Valley         938.0          2455          2045.813333       256.615639\n",
      "Cedar Mill           917.0          2630          2198.186667       293.578006\n",
      "West Linn            911.0          2445          2018.986667       254.120715\n",
      "Damascus             888.0          2262          1833.626667       216.821933\n",
      "West Slope           870.0          2321          1848.066667       270.727265\n",
      "---------------------------------\n",
      "Bottom 5 City's ordered by Total Change\n",
      "             Total Change  January 2017  Average (2010-2017)  Std (2010-2017)\n",
      "City                                                                         \n",
      "Malin                 8.0           853           812.280000        42.027841\n",
      "Crescent             11.0           811           762.146667        41.375568\n",
      "Bonanza              34.0           890           809.026667        46.605873\n",
      "Reedsport            49.0           902           847.320000        28.137289\n",
      "Canyonville          76.0           869           805.280000        25.963363\n"
     ]
    }
   ],
   "source": [
    "summarizeGroup(df_or, 'City')"
   ]
  },
  {
   "cell_type": "code",
   "execution_count": 187,
   "metadata": {
    "collapsed": false
   },
   "outputs": [
    {
     "name": "stdout",
     "output_type": "stream",
     "text": [
      "Top 5 City's ordered by Total Change Zscore\n",
      "              Total Change Zscore  January 2017 Zscore  \\\n",
      "City                                                     \n",
      "Happy Valley             3.030665             1.203478   \n",
      "Cedar Mill               2.951115             1.416709   \n",
      "West Linn                2.928387             1.191293   \n",
      "Damascus                 2.841260             0.968315   \n",
      "West Slope               2.773074             1.040204   \n",
      "\n",
      "              Average (2010-2017) Zscore  Std (2010-2017)  \n",
      "City                                                       \n",
      "Happy Valley                    0.933758       256.615639  \n",
      "Cedar Mill                      1.147291       293.578006  \n",
      "West Linn                       0.896164       254.120715  \n",
      "Damascus                        0.636405       216.821933  \n",
      "West Slope                      0.656641       270.727265  \n",
      "---------------------------------\n",
      "Bottom 5 City's ordered by Total Change Zscore\n",
      "             Total Change Zscore  January 2017 Zscore  \\\n",
      "City                                                    \n",
      "Malin                  -0.492268            -0.748496   \n",
      "Crescent               -0.480904            -0.799672   \n",
      "Bonanza                -0.393778            -0.703413   \n",
      "Reedsport              -0.336956            -0.688792   \n",
      "Canyonville            -0.234677            -0.729001   \n",
      "\n",
      "             Average (2010-2017) Zscore  Std (2010-2017)  \n",
      "City                                                      \n",
      "Malin                         -0.794886        42.027841  \n",
      "Crescent                      -0.865142        41.375568  \n",
      "Bonanza                       -0.799445        46.605873  \n",
      "Reedsport                     -0.745782        28.137289  \n",
      "Canyonville                   -0.804696        25.963363  \n"
     ]
    }
   ],
   "source": [
    "summarizeGroupZs(df_or, 'City')"
   ]
  },
  {
   "cell_type": "markdown",
   "metadata": {},
   "source": [
    "# Remarks for Oregon\n",
    "Mean rent (Jan, 2017) in Oregon: `$`1486.41\n",
    "\n",
    "Mean total change in rental rates in Oregon between 2010 and 2017: `$`408.75\n",
    "\n",
    "Mean percent change in rental rates in Oregon between 2010 and 2017: 36.389%\n",
    "\n",
    "Mean 1 year percent change rental rates in Oregon (2016-2017): 7.221%\n",
    "\n",
    "## County level\n",
    "\n",
    "- Clackamas County experienced the greatest growth in average rental rate between 2010 and 2017 with an increase of `$`656.48 (1.964σ's above mean national increase). Additionally, Clackamas County had the highest average rental rate between 2010 and 2017 at a rate of `$`1634.89 (0.3579σ's above mean national rate).\n",
    "\n",
    "- Klamath County experienced the slowest growth in average rental rate between 2010 and 2017 with an increase of `$`52.80 (.323σ's below mean national increase). Additionally, Klamath County had the lowest average rental rate during the period at a rate of `$`813.94 (0.793σ's below mean national rate) \n",
    "\n",
    "\n",
    "## City level\n",
    "\n",
    "- Happy Valley experienced the greatest growth in average rental rates with an increase of `$`938.00 (3.03σ's above mean national increase).\n",
    "\n",
    "- Malin experienced the least amount of growth in average rental rates with an increase of only `$`8 (.49σ's below mean national increase) "
   ]
  },
  {
   "cell_type": "code",
   "execution_count": 188,
   "metadata": {
    "collapsed": true
   },
   "outputs": [],
   "source": [
    "\n",
    "array = {-1, 0, 1, 3, 5, 4, 5, 2, 1}\n",
    "\n",
    "def Max(array):\n",
    "    index = 0\n",
    "    max_val = array[0]\n",
    "    for i in range(len(array)-1):\n",
    "        if array[i] > max_val:\n",
    "            max_val = array[i]\n",
    "            index = i\n",
    "    return index"
   ]
  },
  {
   "cell_type": "code",
   "execution_count": 190,
   "metadata": {
    "collapsed": false
   },
   "outputs": [
    {
     "data": {
      "text/plain": [
       "4"
      ]
     },
     "execution_count": 190,
     "metadata": {},
     "output_type": "execute_result"
    }
   ],
   "source": [
    "\n",
    "array = (-1, 0, 1, 3, 5, 4, 5, 2, 1)\n",
    "\n",
    "def Max(array):\n",
    "    index = 0\n",
    "    max_val = array[0]\n",
    "    for i in range(len(array)-1):\n",
    "        if array[i] > max_val:\n",
    "            max_val = array[i]\n",
    "            index = i\n",
    "    return index\n",
    "Max(array)"
   ]
  },
  {
   "cell_type": "code",
   "execution_count": null,
   "metadata": {
    "collapsed": true
   },
   "outputs": [],
   "source": []
  }
 ],
 "metadata": {
  "anaconda-cloud": {},
  "kernelspec": {
   "display_name": "Python [default]",
   "language": "python",
   "name": "python3"
  },
  "language_info": {
   "codemirror_mode": {
    "name": "ipython",
    "version": 3
   },
   "file_extension": ".py",
   "mimetype": "text/x-python",
   "name": "python",
   "nbconvert_exporter": "python",
   "pygments_lexer": "ipython3",
   "version": "3.5.2"
  }
 },
 "nbformat": 4,
 "nbformat_minor": 1
}
